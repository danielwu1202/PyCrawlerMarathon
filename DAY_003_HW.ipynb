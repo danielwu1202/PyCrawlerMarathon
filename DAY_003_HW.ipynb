{
 "cells": [
  {
   "cell_type": "code",
   "execution_count": 8,
   "metadata": {},
   "outputs": [
    {
     "name": "stdout",
     "output_type": "stream",
     "text": [
      "['<?xml version=\"1.0\" encoding=\"UTF-8\"?>\\n', '<CUPOY>\\n', '    <Title>爬蟲馬拉松</Title>\\n', '    <Author>Wei</Author>\\n', '    <Chapters>\\n', '        <Chapter name=\"01\">資料來源與存取</Chapter>\\n', '        <Chapter name=\"02\">靜態網頁爬蟲</Chapter>\\n', '        <Chapter name=\"03\">動態網頁爬蟲</Chapter>\\n', '    </Chapters>\\n', '</CUPOY>']\n"
     ]
    }
   ],
   "source": [
    "import csv\n",
    "with open(\"./example01/sample.xml\", 'r', newline = '', encoding = 'utf-8') as xml_file:\n",
    "    rows = xml_file.readlines()\n",
    "    print(rows)"
   ]
  },
  {
   "cell_type": "code",
   "execution_count": 7,
   "metadata": {},
   "outputs": [
    {
     "name": "stdout",
     "output_type": "stream",
     "text": [
      "OrderedDict([('Chapter', [OrderedDict([('@name', '01'), ('#text', '資料來源與存取')]), OrderedDict([('@name', '02'), ('#text', '靜態網頁爬蟲')]), OrderedDict([('@name', '03'), ('#text', '動態網頁爬蟲')])])])\n"
     ]
    }
   ],
   "source": [
    "import xmltodict\n",
    "with open ('./example01/sample.xml', 'r', newline = '', encoding = 'utf-8') as fd:\n",
    "    doc = dict(xmltodict.parse(fd.read()))\n",
    "    print(doc['CUPOY']['Chapters'])"
   ]
  },
  {
   "cell_type": "markdown",
   "metadata": {},
   "source": [
    "# 根據範例檔案的結果：\n",
    "請問高雄市有多少地區有溫度資料？\n",
    "\n",
    "請取出每一個地區所記錄的第一個時間點跟溫度\n",
    "\n",
    "請取出第一個地區所記錄的每一個時間點跟溫度"
   ]
  },
  {
   "cell_type": "code",
   "execution_count": 10,
   "metadata": {},
   "outputs": [
    {
     "name": "stdout",
     "output_type": "stream",
     "text": [
      "There are 38 regions which have been included temp. data.\n",
      "The areas have shown below:\n",
      "Yancheng District\n",
      "Gushan District\n",
      "Zuoying District\n",
      "Nanzi District\n",
      "Sanmin District\n",
      "Xinxing District\n",
      "Qianjin District\n",
      "Lingya District\n",
      "Qianzhen District\n",
      "Qijin District\n",
      "Xiaogang District\n",
      "Fengshan District\n",
      "Linyuan District\n",
      "Daliao District\n",
      "Dashu District\n",
      "Dashe District\n",
      "Renwu District\n",
      "Niaosong District\n",
      "Gangshan District\n",
      "Qiaotou District\n",
      "Yanchao District\n",
      "Tianliao District\n",
      "Alian District\n",
      "Luzhu District\n",
      "Hunei District\n",
      "Qieding District\n",
      "Yong'an District\n",
      "Mituo District\n",
      "Ziguan District\n",
      "Qishan District\n",
      "Meinong District\n",
      "Liouguei District\n",
      "Jiaxian District\n",
      "Shanlin District\n",
      "Neimen District\n",
      "Maolin District\n",
      "Taoyuan District\n",
      "Namaxia District\n"
     ]
    }
   ],
   "source": [
    "with open('./example01/64_72hr_EN.xml', 'r', newline = '', encoding = 'utf-8') as file:\n",
    "    doc = dict(xmltodict.parse(file.read()))\n",
    "    data = doc['cwbopendata']['dataset']['locations']['location']\n",
    "    print(f'There are {len(data)} regions which have been included temp. data.\\nThe areas have shown below:')\n",
    "    for location in data:\n",
    "        print(location['locationName'])"
   ]
  },
  {
   "cell_type": "code",
   "execution_count": 12,
   "metadata": {},
   "outputs": [
    {
     "name": "stdout",
     "output_type": "stream",
     "text": [
      " Yancheng District: 2019-06-28T12:00:00+08:00: 33C\n",
      "   Gushan District: 2019-06-28T12:00:00+08:00: 33C\n",
      "  Zuoying District: 2019-06-28T12:00:00+08:00: 33C\n",
      "    Nanzi District: 2019-06-28T12:00:00+08:00: 34C\n",
      "   Sanmin District: 2019-06-28T12:00:00+08:00: 32C\n",
      "  Xinxing District: 2019-06-28T12:00:00+08:00: 33C\n",
      "  Qianjin District: 2019-06-28T12:00:00+08:00: 33C\n",
      "   Lingya District: 2019-06-28T12:00:00+08:00: 33C\n",
      " Qianzhen District: 2019-06-28T12:00:00+08:00: 33C\n",
      "    Qijin District: 2019-06-28T12:00:00+08:00: 32C\n",
      " Xiaogang District: 2019-06-28T12:00:00+08:00: 33C\n",
      " Fengshan District: 2019-06-28T12:00:00+08:00: 34C\n",
      "  Linyuan District: 2019-06-28T12:00:00+08:00: 33C\n",
      "   Daliao District: 2019-06-28T12:00:00+08:00: 34C\n",
      "    Dashu District: 2019-06-28T12:00:00+08:00: 34C\n",
      "    Dashe District: 2019-06-28T12:00:00+08:00: 34C\n",
      "    Renwu District: 2019-06-28T12:00:00+08:00: 33C\n",
      " Niaosong District: 2019-06-28T12:00:00+08:00: 34C\n",
      " Gangshan District: 2019-06-28T12:00:00+08:00: 34C\n",
      "  Qiaotou District: 2019-06-28T12:00:00+08:00: 35C\n",
      "  Yanchao District: 2019-06-28T12:00:00+08:00: 34C\n",
      " Tianliao District: 2019-06-28T12:00:00+08:00: 34C\n",
      "    Alian District: 2019-06-28T12:00:00+08:00: 34C\n",
      "    Luzhu District: 2019-06-28T12:00:00+08:00: 33C\n",
      "    Hunei District: 2019-06-28T12:00:00+08:00: 33C\n",
      "  Qieding District: 2019-06-28T12:00:00+08:00: 33C\n",
      "  Yong'an District: 2019-06-28T12:00:00+08:00: 32C\n",
      "    Mituo District: 2019-06-28T12:00:00+08:00: 32C\n",
      "   Ziguan District: 2019-06-28T12:00:00+08:00: 32C\n",
      "   Qishan District: 2019-06-28T12:00:00+08:00: 34C\n",
      "  Meinong District: 2019-06-28T12:00:00+08:00: 34C\n",
      " Liouguei District: 2019-06-28T12:00:00+08:00: 34C\n",
      "  Jiaxian District: 2019-06-28T12:00:00+08:00: 33C\n",
      "  Shanlin District: 2019-06-28T12:00:00+08:00: 36C\n",
      "   Neimen District: 2019-06-28T12:00:00+08:00: 34C\n",
      "   Maolin District: 2019-06-28T12:00:00+08:00: 34C\n",
      "  Taoyuan District: 2019-06-28T12:00:00+08:00: 31C\n",
      "  Namaxia District: 2019-06-28T12:00:00+08:00: 29C\n"
     ]
    }
   ],
   "source": [
    "with open('./example01/64_72hr_EN.xml', 'r', newline='', encoding='utf-8') as f:\n",
    "    doc = xmltodict.parse(f.read())\n",
    "    data = doc['cwbopendata']['dataset']['locations']['location']\n",
    "    for information in data:\n",
    "        region = information['locationName']\n",
    "        dt = information['weatherElement'][0]['time'][0]['dataTime']\n",
    "        temp = information['weatherElement'][0]['time'][0]['elementValue']['value']\n",
    "        unit = information['weatherElement'][0]['time'][0]['elementValue']['measures']\n",
    "        print(f'{region:>18s}: {dt}:{temp:>3s}{unit}')"
   ]
  },
  {
   "cell_type": "code",
   "execution_count": 14,
   "metadata": {},
   "outputs": [
    {
     "name": "stdout",
     "output_type": "stream",
     "text": [
      "Yancheng District: 2019-06-28T12:00:00+08:00 33: C\n",
      "Yancheng District: 2019-06-28T15:00:00+08:00 33: C\n",
      "Yancheng District: 2019-06-28T18:00:00+08:00 32: C\n",
      "Yancheng District: 2019-06-28T21:00:00+08:00 30: C\n",
      "Yancheng District: 2019-06-29T00:00:00+08:00 30: C\n",
      "Yancheng District: 2019-06-29T03:00:00+08:00 29: C\n",
      "Yancheng District: 2019-06-29T06:00:00+08:00 28: C\n",
      "Yancheng District: 2019-06-29T09:00:00+08:00 31: C\n",
      "Yancheng District: 2019-06-29T12:00:00+08:00 32: C\n",
      "Yancheng District: 2019-06-29T15:00:00+08:00 32: C\n",
      "Yancheng District: 2019-06-29T18:00:00+08:00 31: C\n",
      "Yancheng District: 2019-06-29T21:00:00+08:00 30: C\n",
      "Yancheng District: 2019-06-30T00:00:00+08:00 29: C\n",
      "Yancheng District: 2019-06-30T03:00:00+08:00 28: C\n",
      "Yancheng District: 2019-06-30T06:00:00+08:00 28: C\n",
      "Yancheng District: 2019-06-30T09:00:00+08:00 31: C\n",
      "Yancheng District: 2019-06-30T12:00:00+08:00 32: C\n",
      "Yancheng District: 2019-06-30T15:00:00+08:00 32: C\n",
      "Yancheng District: 2019-06-30T18:00:00+08:00 31: C\n",
      "Yancheng District: 2019-06-30T21:00:00+08:00 30: C\n",
      "Yancheng District: 2019-07-01T00:00:00+08:00 29: C\n",
      "Yancheng District: 2019-07-01T03:00:00+08:00 29: C\n",
      "Yancheng District: 2019-07-01T06:00:00+08:00 28: C\n",
      "Yancheng District: 2019-07-01T09:00:00+08:00 31: C\n"
     ]
    }
   ],
   "source": [
    "with open('./example01/64_72hr_EN.xml', 'r', newline='', encoding='utf-8') as f:\n",
    "    doc = xmltodict.parse(f.read())\n",
    "    data = doc['cwbopendata']['dataset']['locations']['location']\n",
    "    ln = data[0]['locationName']\n",
    "    time = data[0]['weatherElement'][0]['time']\n",
    "    for info in time:\n",
    "        print(f\"{ln}: {info['dataTime']} {info['elementValue']['value']}: {info['elementValue']['measures']}\")"
   ]
  }
 ],
 "metadata": {
  "kernelspec": {
   "display_name": "Python 3",
   "language": "python",
   "name": "python3"
  },
  "language_info": {
   "codemirror_mode": {
    "name": "ipython",
    "version": 3
   },
   "file_extension": ".py",
   "mimetype": "text/x-python",
   "name": "python",
   "nbconvert_exporter": "python",
   "pygments_lexer": "ipython3",
   "version": "3.7.7"
  }
 },
 "nbformat": 4,
 "nbformat_minor": 4
}
